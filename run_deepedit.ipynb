{
 "cells": [
  {
   "cell_type": "code",
   "execution_count": 2,
   "id": "8dd6e7ff",
   "metadata": {
    "tags": []
   },
   "outputs": [],
   "source": [
    "import os\n",
    "import json\n",
    "import random\n",
    "from tqdm import tqdm\n",
    "\n",
    "import torch\n",
    "from transformers import AutoTokenizer, AutoModel\n",
    "import pdb\n",
    "import string\n",
    "import fairseq"
   ]
  },
  {
   "cell_type": "markdown",
   "id": "e84644ce",
   "metadata": {},
   "source": [
    "#### Set up OpenAI API"
   ]
  },
  {
   "cell_type": "code",
   "execution_count": 4,
   "id": "1588cf93",
   "metadata": {
    "tags": []
   },
   "outputs": [],
   "source": [
    "import openai\n",
    "\n",
    "openai.api_key = '<YOUR OPENAI API KEY>'\n",
    "\n",
    "def call_gpt(cur_prompt, stop, temperature = 0):\n",
    "    ans = openai.Completion.create(\n",
    "                model=\"gpt-3.5-turbo-instruct\",\n",
    "                max_tokens=256,\n",
    "                stop=stop,\n",
    "                prompt=cur_prompt,\n",
    "                temperature=temperature)\n",
    "    returned = ans['choices'][0]['text']\n",
    "    \n",
    "    return returned"
   ]
  },
  {
   "cell_type": "markdown",
   "id": "964a79bd",
   "metadata": {},
   "source": [
    "#### Functions for retrieval models (Contriever)"
   ]
  },
  {
   "cell_type": "code",
   "execution_count": 5,
   "id": "7cd5d62b",
   "metadata": {
    "tags": []
   },
   "outputs": [],
   "source": [
    "def mean_pooling(token_embeddings, mask):\n",
    "    token_embeddings = token_embeddings.masked_fill(~mask[..., None].bool(), 0.)\n",
    "    sentence_embeddings = token_embeddings.sum(dim=1) / mask.sum(dim=1)[..., None]\n",
    "    return sentence_embeddings\n",
    "\n",
    "def get_sent_embeddings(sents, contriever, tok, BSZ=32):    \n",
    "    all_embs = []\n",
    "    for i in range(0, len(sents), BSZ):\n",
    "        sent_batch = sents[i:i+BSZ]\n",
    "        inputs = tok(sent_batch, padding=True, truncation=True, return_tensors='pt').to(\"cuda\")\n",
    "        with torch.no_grad():\n",
    "            outputs = contriever(**inputs)\n",
    "            embeddings = mean_pooling(outputs[0], inputs['attention_mask'])\n",
    "        all_embs.append(embeddings.cpu())\n",
    "    all_embs = torch.vstack(all_embs)\n",
    "    return all_embs\n",
    "\n",
    "def retrieve_facts(query, fact_embs, contriever, tok, k=2):\n",
    "    inputs = tok([query], padding=True, truncation=True, return_tensors='pt').to(\"cuda\")\n",
    "    with torch.no_grad():\n",
    "        outputs = contriever(**inputs)\n",
    "        query_emb = mean_pooling(outputs[0], inputs['attention_mask']).cpu()\n",
    "    sim = (query_emb @ fact_embs.T)[0]\n",
    "    knn = sim.topk(min(len(fact_embs), k), largest=True)\n",
    "    return knn.indices"
   ]
  },
  {
   "cell_type": "markdown",
   "id": "771712cb",
   "metadata": {},
   "source": [
    "#### Load dataset"
   ]
  },
  {
   "cell_type": "code",
   "execution_count": 6,
   "id": "469cccc6",
   "metadata": {
    "tags": []
   },
   "outputs": [],
   "source": [
    "with open('datasets/MQuAKE-CF-3k.json', 'r') as f:\n",
    "    dataset = json.load(f)"
   ]
  },
  {
   "cell_type": "markdown",
   "id": "ded19987",
   "metadata": {},
   "source": [
    "#### Build a memory index which contains all the edits"
   ]
  },
  {
   "cell_type": "code",
   "execution_count": 7,
   "id": "f098daf5",
   "metadata": {
    "tags": []
   },
   "outputs": [
    {
     "data": {
      "text/plain": [
       "2786"
      ]
     },
     "execution_count": 7,
     "metadata": {},
     "output_type": "execute_result"
    }
   ],
   "source": [
    "new_facts = set()\n",
    "for d in dataset:\n",
    "    for r in d[\"requested_rewrite\"]:\n",
    "        new_facts.add(f'{r[\"prompt\"].format(r[\"subject\"])} {r[\"target_new\"][\"str\"]}')\n",
    "new_facts = list(new_facts)\n",
    "len(new_facts)"
   ]
  },
  {
   "cell_type": "code",
   "execution_count": 8,
   "id": "7a060c5c",
   "metadata": {
    "tags": []
   },
   "outputs": [],
   "source": [
    "contriever = AutoModel.from_pretrained(\"facebook/contriever-msmarco\").cuda()\n",
    "tokenizer = AutoTokenizer.from_pretrained(\"facebook/contriever-msmarco\")"
   ]
  },
  {
   "cell_type": "code",
   "execution_count": 9,
   "id": "f4eaa2a2",
   "metadata": {
    "tags": []
   },
   "outputs": [],
   "source": [
    "embs = get_sent_embeddings(new_facts, contriever, tokenizer)"
   ]
  },
  {
   "cell_type": "code",
   "execution_count": 10,
   "id": "24d605e8",
   "metadata": {
    "tags": []
   },
   "outputs": [
    {
     "name": "stdout",
     "output_type": "stream",
     "text": [
      "The name of the current head of state in United States of America is Norodom Sihamoni\n"
     ]
    }
   ],
   "source": [
    "# Run test for retrieval index\n",
    "fact_ids = retrieve_facts(\"The U.S. president is \", embs, contriever, tokenizer)\n",
    "print(new_facts[fact_ids[0]])"
   ]
  },
  {
   "cell_type": "markdown",
   "id": "b0937cc8",
   "metadata": {},
   "source": [
    "#### Run DeepEdit"
   ]
  },
  {
   "cell_type": "code",
   "execution_count": 13,
   "id": "34517c61-6ca8-4e23-a2a2-d3c23977f1f0",
   "metadata": {},
   "outputs": [
    {
     "name": "stderr",
     "output_type": "stream",
     "text": [
      "  1%|█▋                                                                                                                                                                       | 1/100 [00:02<03:46,  2.28s/it]"
     ]
    },
    {
     "name": "stdout",
     "output_type": "stream",
     "text": [
      "Multi-hop acc = 0.0 (0 / 1)\n"
     ]
    },
    {
     "name": "stderr",
     "output_type": "stream",
     "text": [
      "  2%|███▍                                                                                                                                                                     | 2/100 [00:05<04:42,  2.88s/it]"
     ]
    },
    {
     "name": "stdout",
     "output_type": "stream",
     "text": [
      "Multi-hop acc = 0.0 (0 / 2)\n"
     ]
    },
    {
     "name": "stderr",
     "output_type": "stream",
     "text": [
      "  3%|█████                                                                                                                                                                    | 3/100 [00:08<04:24,  2.72s/it]"
     ]
    },
    {
     "name": "stdout",
     "output_type": "stream",
     "text": [
      "Multi-hop acc = 0.3333333333333333 (1 / 3)\n"
     ]
    },
    {
     "name": "stderr",
     "output_type": "stream",
     "text": [
      "  4%|██████▊                                                                                                                                                                  | 4/100 [00:11<04:41,  2.94s/it]"
     ]
    },
    {
     "name": "stdout",
     "output_type": "stream",
     "text": [
      "Multi-hop acc = 0.5 (2 / 4)\n"
     ]
    },
    {
     "name": "stderr",
     "output_type": "stream",
     "text": [
      "  5%|████████▍                                                                                                                                                                | 5/100 [00:13<04:21,  2.76s/it]"
     ]
    },
    {
     "name": "stdout",
     "output_type": "stream",
     "text": [
      "Multi-hop acc = 0.6 (3 / 5)\n"
     ]
    },
    {
     "name": "stderr",
     "output_type": "stream",
     "text": [
      "  6%|██████████▏                                                                                                                                                              | 6/100 [00:19<05:44,  3.67s/it]"
     ]
    },
    {
     "name": "stdout",
     "output_type": "stream",
     "text": [
      "Multi-hop acc = 0.5 (3 / 6)\n"
     ]
    },
    {
     "name": "stderr",
     "output_type": "stream",
     "text": [
      "  7%|███████████▊                                                                                                                                                             | 7/100 [00:22<05:21,  3.46s/it]"
     ]
    },
    {
     "name": "stdout",
     "output_type": "stream",
     "text": [
      "Multi-hop acc = 0.5714285714285714 (4 / 7)\n"
     ]
    },
    {
     "name": "stderr",
     "output_type": "stream",
     "text": [
      "  8%|█████████████▌                                                                                                                                                           | 8/100 [00:25<04:57,  3.23s/it]"
     ]
    },
    {
     "name": "stdout",
     "output_type": "stream",
     "text": [
      "Multi-hop acc = 0.625 (5 / 8)\n"
     ]
    },
    {
     "name": "stderr",
     "output_type": "stream",
     "text": [
      "  9%|███████████████▏                                                                                                                                                         | 9/100 [00:27<04:46,  3.14s/it]"
     ]
    },
    {
     "name": "stdout",
     "output_type": "stream",
     "text": [
      "Multi-hop acc = 0.6666666666666666 (6 / 9)\n"
     ]
    },
    {
     "name": "stderr",
     "output_type": "stream",
     "text": [
      " 10%|████████████████▊                                                                                                                                                       | 10/100 [00:30<04:30,  3.00s/it]"
     ]
    },
    {
     "name": "stdout",
     "output_type": "stream",
     "text": [
      "Multi-hop acc = 0.7 (7 / 10)\n"
     ]
    },
    {
     "name": "stderr",
     "output_type": "stream",
     "text": [
      " 11%|██████████████████▍                                                                                                                                                     | 11/100 [00:33<04:27,  3.00s/it]"
     ]
    },
    {
     "name": "stdout",
     "output_type": "stream",
     "text": [
      "Multi-hop acc = 0.7272727272727273 (8 / 11)\n"
     ]
    },
    {
     "name": "stderr",
     "output_type": "stream",
     "text": [
      " 12%|████████████████████▏                                                                                                                                                   | 12/100 [00:36<04:13,  2.88s/it]"
     ]
    },
    {
     "name": "stdout",
     "output_type": "stream",
     "text": [
      "Multi-hop acc = 0.75 (9 / 12)\n"
     ]
    },
    {
     "name": "stderr",
     "output_type": "stream",
     "text": [
      " 13%|█████████████████████▊                                                                                                                                                  | 13/100 [00:38<03:50,  2.65s/it]"
     ]
    },
    {
     "name": "stdout",
     "output_type": "stream",
     "text": [
      "Multi-hop acc = 0.7692307692307693 (10 / 13)\n"
     ]
    },
    {
     "name": "stderr",
     "output_type": "stream",
     "text": [
      " 14%|███████████████████████▌                                                                                                                                                | 14/100 [00:40<03:45,  2.62s/it]"
     ]
    },
    {
     "name": "stdout",
     "output_type": "stream",
     "text": [
      "Multi-hop acc = 0.7857142857142857 (11 / 14)\n"
     ]
    },
    {
     "name": "stderr",
     "output_type": "stream",
     "text": [
      " 15%|█████████████████████████▏                                                                                                                                              | 15/100 [00:43<03:46,  2.67s/it]"
     ]
    },
    {
     "name": "stdout",
     "output_type": "stream",
     "text": [
      "Multi-hop acc = 0.8 (12 / 15)\n"
     ]
    },
    {
     "name": "stderr",
     "output_type": "stream",
     "text": [
      " 16%|██████████████████████████▉                                                                                                                                             | 16/100 [00:46<03:34,  2.55s/it]"
     ]
    },
    {
     "name": "stdout",
     "output_type": "stream",
     "text": [
      "Multi-hop acc = 0.8125 (13 / 16)\n"
     ]
    },
    {
     "name": "stderr",
     "output_type": "stream",
     "text": [
      " 17%|████████████████████████████▌                                                                                                                                           | 17/100 [00:49<03:50,  2.78s/it]"
     ]
    },
    {
     "name": "stdout",
     "output_type": "stream",
     "text": [
      "Multi-hop acc = 0.8235294117647058 (14 / 17)\n"
     ]
    },
    {
     "name": "stderr",
     "output_type": "stream",
     "text": [
      " 18%|██████████████████████████████▏                                                                                                                                         | 18/100 [00:51<03:39,  2.67s/it]"
     ]
    },
    {
     "name": "stdout",
     "output_type": "stream",
     "text": [
      "Multi-hop acc = 0.8333333333333334 (15 / 18)\n"
     ]
    },
    {
     "name": "stderr",
     "output_type": "stream",
     "text": [
      " 19%|███████████████████████████████▉                                                                                                                                        | 19/100 [00:53<03:21,  2.49s/it]"
     ]
    },
    {
     "name": "stdout",
     "output_type": "stream",
     "text": [
      "Multi-hop acc = 0.8421052631578947 (16 / 19)\n"
     ]
    },
    {
     "name": "stderr",
     "output_type": "stream",
     "text": [
      " 20%|█████████████████████████████████▌                                                                                                                                      | 20/100 [00:56<03:22,  2.53s/it]"
     ]
    },
    {
     "name": "stdout",
     "output_type": "stream",
     "text": [
      "Multi-hop acc = 0.85 (17 / 20)\n"
     ]
    },
    {
     "name": "stderr",
     "output_type": "stream",
     "text": [
      " 21%|███████████████████████████████████▎                                                                                                                                    | 21/100 [00:59<03:30,  2.67s/it]"
     ]
    },
    {
     "name": "stdout",
     "output_type": "stream",
     "text": [
      "Multi-hop acc = 0.8571428571428571 (18 / 21)\n"
     ]
    },
    {
     "name": "stderr",
     "output_type": "stream",
     "text": [
      " 22%|████████████████████████████████████▉                                                                                                                                   | 22/100 [01:02<03:40,  2.83s/it]"
     ]
    },
    {
     "name": "stdout",
     "output_type": "stream",
     "text": [
      "Multi-hop acc = 0.8636363636363636 (19 / 22)\n"
     ]
    },
    {
     "name": "stderr",
     "output_type": "stream",
     "text": [
      " 23%|██████████████████████████████████████▋                                                                                                                                 | 23/100 [01:04<03:25,  2.67s/it]"
     ]
    },
    {
     "name": "stdout",
     "output_type": "stream",
     "text": [
      "Multi-hop acc = 0.8695652173913043 (20 / 23)\n"
     ]
    },
    {
     "name": "stderr",
     "output_type": "stream",
     "text": [
      " 24%|████████████████████████████████████████▎                                                                                                                               | 24/100 [01:09<03:57,  3.13s/it]"
     ]
    },
    {
     "name": "stdout",
     "output_type": "stream",
     "text": [
      "Multi-hop acc = 0.8333333333333334 (20 / 24)\n"
     ]
    },
    {
     "name": "stderr",
     "output_type": "stream",
     "text": [
      " 25%|██████████████████████████████████████████                                                                                                                              | 25/100 [01:11<03:34,  2.86s/it]"
     ]
    },
    {
     "name": "stdout",
     "output_type": "stream",
     "text": [
      "Multi-hop acc = 0.84 (21 / 25)\n"
     ]
    },
    {
     "name": "stderr",
     "output_type": "stream",
     "text": [
      " 26%|███████████████████████████████████████████▋                                                                                                                            | 26/100 [01:13<03:17,  2.67s/it]"
     ]
    },
    {
     "name": "stdout",
     "output_type": "stream",
     "text": [
      "Multi-hop acc = 0.8076923076923077 (21 / 26)\n"
     ]
    },
    {
     "name": "stderr",
     "output_type": "stream",
     "text": [
      " 27%|█████████████████████████████████████████████▎                                                                                                                          | 27/100 [01:17<03:32,  2.91s/it]"
     ]
    },
    {
     "name": "stdout",
     "output_type": "stream",
     "text": [
      "Multi-hop acc = 0.7777777777777778 (21 / 27)\n"
     ]
    },
    {
     "name": "stderr",
     "output_type": "stream",
     "text": [
      " 28%|███████████████████████████████████████████████                                                                                                                         | 28/100 [01:20<03:43,  3.10s/it]"
     ]
    },
    {
     "name": "stdout",
     "output_type": "stream",
     "text": [
      "Multi-hop acc = 0.7857142857142857 (22 / 28)\n"
     ]
    },
    {
     "name": "stderr",
     "output_type": "stream",
     "text": [
      " 29%|████████████████████████████████████████████████▋                                                                                                                       | 29/100 [01:23<03:40,  3.10s/it]"
     ]
    },
    {
     "name": "stdout",
     "output_type": "stream",
     "text": [
      "Multi-hop acc = 0.7931034482758621 (23 / 29)\n"
     ]
    },
    {
     "name": "stderr",
     "output_type": "stream",
     "text": [
      " 30%|██████████████████████████████████████████████████▍                                                                                                                     | 30/100 [01:26<03:26,  2.95s/it]"
     ]
    },
    {
     "name": "stdout",
     "output_type": "stream",
     "text": [
      "Multi-hop acc = 0.8 (24 / 30)\n"
     ]
    },
    {
     "name": "stderr",
     "output_type": "stream",
     "text": [
      " 31%|████████████████████████████████████████████████████                                                                                                                    | 31/100 [01:29<03:23,  2.96s/it]"
     ]
    },
    {
     "name": "stdout",
     "output_type": "stream",
     "text": [
      "Multi-hop acc = 0.8064516129032258 (25 / 31)\n"
     ]
    },
    {
     "name": "stderr",
     "output_type": "stream",
     "text": [
      " 32%|█████████████████████████████████████████████████████▊                                                                                                                  | 32/100 [01:31<03:12,  2.83s/it]"
     ]
    },
    {
     "name": "stdout",
     "output_type": "stream",
     "text": [
      "Multi-hop acc = 0.78125 (25 / 32)\n"
     ]
    },
    {
     "name": "stderr",
     "output_type": "stream",
     "text": [
      " 33%|███████████████████████████████████████████████████████▍                                                                                                                | 33/100 [01:34<03:14,  2.91s/it]"
     ]
    },
    {
     "name": "stdout",
     "output_type": "stream",
     "text": [
      "Multi-hop acc = 0.7878787878787878 (26 / 33)\n"
     ]
    },
    {
     "name": "stderr",
     "output_type": "stream",
     "text": [
      " 34%|█████████████████████████████████████████████████████████                                                                                                               | 34/100 [01:37<02:56,  2.68s/it]"
     ]
    },
    {
     "name": "stdout",
     "output_type": "stream",
     "text": [
      "Multi-hop acc = 0.7647058823529411 (26 / 34)\n"
     ]
    },
    {
     "name": "stderr",
     "output_type": "stream",
     "text": [
      " 35%|██████████████████████████████████████████████████████████▊                                                                                                             | 35/100 [01:40<03:02,  2.81s/it]"
     ]
    },
    {
     "name": "stdout",
     "output_type": "stream",
     "text": [
      "Multi-hop acc = 0.7714285714285715 (27 / 35)\n"
     ]
    },
    {
     "name": "stderr",
     "output_type": "stream",
     "text": [
      " 36%|████████████████████████████████████████████████████████████▍                                                                                                           | 36/100 [01:42<02:55,  2.74s/it]"
     ]
    },
    {
     "name": "stdout",
     "output_type": "stream",
     "text": [
      "Multi-hop acc = 0.7777777777777778 (28 / 36)\n"
     ]
    },
    {
     "name": "stderr",
     "output_type": "stream",
     "text": [
      " 37%|██████████████████████████████████████████████████████████████▏                                                                                                         | 37/100 [01:46<03:03,  2.91s/it]"
     ]
    },
    {
     "name": "stdout",
     "output_type": "stream",
     "text": [
      "Multi-hop acc = 0.7837837837837838 (29 / 37)\n"
     ]
    },
    {
     "name": "stderr",
     "output_type": "stream",
     "text": [
      " 38%|███████████████████████████████████████████████████████████████▊                                                                                                        | 38/100 [01:48<02:52,  2.78s/it]"
     ]
    },
    {
     "name": "stdout",
     "output_type": "stream",
     "text": [
      "Multi-hop acc = 0.7894736842105263 (30 / 38)\n"
     ]
    },
    {
     "name": "stderr",
     "output_type": "stream",
     "text": [
      " 39%|█████████████████████████████████████████████████████████████████▌                                                                                                      | 39/100 [01:51<02:46,  2.73s/it]"
     ]
    },
    {
     "name": "stdout",
     "output_type": "stream",
     "text": [
      "Multi-hop acc = 0.7948717948717948 (31 / 39)\n"
     ]
    },
    {
     "name": "stderr",
     "output_type": "stream",
     "text": [
      " 40%|███████████████████████████████████████████████████████████████████▏                                                                                                    | 40/100 [01:53<02:34,  2.57s/it]"
     ]
    },
    {
     "name": "stdout",
     "output_type": "stream",
     "text": [
      "Multi-hop acc = 0.8 (32 / 40)\n"
     ]
    },
    {
     "name": "stderr",
     "output_type": "stream",
     "text": [
      " 41%|████████████████████████████████████████████████████████████████████▉                                                                                                   | 41/100 [01:57<03:01,  3.07s/it]"
     ]
    },
    {
     "name": "stdout",
     "output_type": "stream",
     "text": [
      "Multi-hop acc = 0.7804878048780488 (32 / 41)\n"
     ]
    },
    {
     "name": "stderr",
     "output_type": "stream",
     "text": [
      " 42%|██████████████████████████████████████████████████████████████████████▌                                                                                                 | 42/100 [02:00<02:54,  3.01s/it]"
     ]
    },
    {
     "name": "stdout",
     "output_type": "stream",
     "text": [
      "Multi-hop acc = 0.7857142857142857 (33 / 42)\n"
     ]
    },
    {
     "name": "stderr",
     "output_type": "stream",
     "text": [
      " 43%|████████████████████████████████████████████████████████████████████████▏                                                                                               | 43/100 [02:03<02:51,  3.01s/it]"
     ]
    },
    {
     "name": "stdout",
     "output_type": "stream",
     "text": [
      "Multi-hop acc = 0.7906976744186046 (34 / 43)\n"
     ]
    },
    {
     "name": "stderr",
     "output_type": "stream",
     "text": [
      " 44%|█████████████████████████████████████████████████████████████████████████▉                                                                                              | 44/100 [02:05<02:36,  2.80s/it]"
     ]
    },
    {
     "name": "stdout",
     "output_type": "stream",
     "text": [
      "Multi-hop acc = 0.7954545454545454 (35 / 44)\n"
     ]
    },
    {
     "name": "stderr",
     "output_type": "stream",
     "text": [
      " 45%|███████████████████████████████████████████████████████████████████████████▌                                                                                            | 45/100 [02:08<02:30,  2.74s/it]"
     ]
    },
    {
     "name": "stdout",
     "output_type": "stream",
     "text": [
      "Multi-hop acc = 0.8 (36 / 45)\n"
     ]
    },
    {
     "name": "stderr",
     "output_type": "stream",
     "text": [
      " 46%|█████████████████████████████████████████████████████████████████████████████▎                                                                                          | 46/100 [02:11<02:27,  2.73s/it]"
     ]
    },
    {
     "name": "stdout",
     "output_type": "stream",
     "text": [
      "Multi-hop acc = 0.8043478260869565 (37 / 46)\n"
     ]
    },
    {
     "name": "stderr",
     "output_type": "stream",
     "text": [
      " 47%|██████████████████████████████████████████████████████████████████████████████▉                                                                                         | 47/100 [02:14<02:31,  2.87s/it]"
     ]
    },
    {
     "name": "stdout",
     "output_type": "stream",
     "text": [
      "Multi-hop acc = 0.8085106382978723 (38 / 47)\n"
     ]
    },
    {
     "name": "stderr",
     "output_type": "stream",
     "text": [
      " 48%|████████████████████████████████████████████████████████████████████████████████▋                                                                                       | 48/100 [02:17<02:32,  2.92s/it]"
     ]
    },
    {
     "name": "stdout",
     "output_type": "stream",
     "text": [
      "Multi-hop acc = 0.8125 (39 / 48)\n"
     ]
    },
    {
     "name": "stderr",
     "output_type": "stream",
     "text": [
      " 49%|██████████████████████████████████████████████████████████████████████████████████▎                                                                                     | 49/100 [02:20<02:30,  2.96s/it]"
     ]
    },
    {
     "name": "stdout",
     "output_type": "stream",
     "text": [
      "Multi-hop acc = 0.8163265306122449 (40 / 49)\n"
     ]
    },
    {
     "name": "stderr",
     "output_type": "stream",
     "text": [
      " 50%|████████████████████████████████████████████████████████████████████████████████████                                                                                    | 50/100 [02:23<02:27,  2.96s/it]"
     ]
    },
    {
     "name": "stdout",
     "output_type": "stream",
     "text": [
      "Multi-hop acc = 0.8 (40 / 50)\n"
     ]
    },
    {
     "name": "stderr",
     "output_type": "stream",
     "text": [
      " 51%|█████████████████████████████████████████████████████████████████████████████████████▋                                                                                  | 51/100 [02:26<02:24,  2.96s/it]"
     ]
    },
    {
     "name": "stdout",
     "output_type": "stream",
     "text": [
      "Multi-hop acc = 0.803921568627451 (41 / 51)\n"
     ]
    },
    {
     "name": "stderr",
     "output_type": "stream",
     "text": [
      " 52%|███████████████████████████████████████████████████████████████████████████████████████▎                                                                                | 52/100 [02:29<02:19,  2.91s/it]"
     ]
    },
    {
     "name": "stdout",
     "output_type": "stream",
     "text": [
      "Multi-hop acc = 0.8076923076923077 (42 / 52)\n"
     ]
    },
    {
     "name": "stderr",
     "output_type": "stream",
     "text": [
      " 53%|█████████████████████████████████████████████████████████████████████████████████████████                                                                               | 53/100 [02:32<02:23,  3.06s/it]"
     ]
    },
    {
     "name": "stdout",
     "output_type": "stream",
     "text": [
      "Multi-hop acc = 0.8113207547169812 (43 / 53)\n"
     ]
    },
    {
     "name": "stderr",
     "output_type": "stream",
     "text": [
      " 54%|██████████████████████████████████████████████████████████████████████████████████████████▋                                                                             | 54/100 [02:35<02:25,  3.16s/it]"
     ]
    },
    {
     "name": "stdout",
     "output_type": "stream",
     "text": [
      "Multi-hop acc = 0.8148148148148148 (44 / 54)\n"
     ]
    },
    {
     "name": "stderr",
     "output_type": "stream",
     "text": [
      " 55%|████████████████████████████████████████████████████████████████████████████████████████████▍                                                                           | 55/100 [02:39<02:22,  3.16s/it]"
     ]
    },
    {
     "name": "stdout",
     "output_type": "stream",
     "text": [
      "Multi-hop acc = 0.8181818181818182 (45 / 55)\n"
     ]
    },
    {
     "name": "stderr",
     "output_type": "stream",
     "text": [
      " 56%|██████████████████████████████████████████████████████████████████████████████████████████████                                                                          | 56/100 [02:41<02:09,  2.95s/it]"
     ]
    },
    {
     "name": "stdout",
     "output_type": "stream",
     "text": [
      "Multi-hop acc = 0.8214285714285714 (46 / 56)\n"
     ]
    },
    {
     "name": "stderr",
     "output_type": "stream",
     "text": [
      " 57%|███████████████████████████████████████████████████████████████████████████████████████████████▊                                                                        | 57/100 [02:44<02:06,  2.94s/it]"
     ]
    },
    {
     "name": "stdout",
     "output_type": "stream",
     "text": [
      "Multi-hop acc = 0.8245614035087719 (47 / 57)\n"
     ]
    },
    {
     "name": "stderr",
     "output_type": "stream",
     "text": [
      " 58%|█████████████████████████████████████████████████████████████████████████████████████████████████▍                                                                      | 58/100 [02:47<02:08,  3.06s/it]"
     ]
    },
    {
     "name": "stdout",
     "output_type": "stream",
     "text": [
      "Multi-hop acc = 0.8103448275862069 (47 / 58)\n"
     ]
    },
    {
     "name": "stderr",
     "output_type": "stream",
     "text": [
      " 59%|███████████████████████████████████████████████████████████████████████████████████████████████████                                                                     | 59/100 [02:51<02:18,  3.38s/it]"
     ]
    },
    {
     "name": "stdout",
     "output_type": "stream",
     "text": [
      "Multi-hop acc = 0.7966101694915254 (47 / 59)\n"
     ]
    },
    {
     "name": "stderr",
     "output_type": "stream",
     "text": [
      " 60%|████████████████████████████████████████████████████████████████████████████████████████████████████▊                                                                   | 60/100 [02:54<02:11,  3.29s/it]"
     ]
    },
    {
     "name": "stdout",
     "output_type": "stream",
     "text": [
      "Multi-hop acc = 0.8 (48 / 60)\n"
     ]
    },
    {
     "name": "stderr",
     "output_type": "stream",
     "text": [
      " 61%|██████████████████████████████████████████████████████████████████████████████████████████████████████▍                                                                 | 61/100 [02:57<01:59,  3.06s/it]"
     ]
    },
    {
     "name": "stdout",
     "output_type": "stream",
     "text": [
      "Multi-hop acc = 0.8032786885245902 (49 / 61)\n"
     ]
    },
    {
     "name": "stderr",
     "output_type": "stream",
     "text": [
      " 62%|████████████████████████████████████████████████████████████████████████████████████████████████████████▏                                                               | 62/100 [03:00<01:54,  3.03s/it]"
     ]
    },
    {
     "name": "stdout",
     "output_type": "stream",
     "text": [
      "Multi-hop acc = 0.8064516129032258 (50 / 62)\n"
     ]
    },
    {
     "name": "stderr",
     "output_type": "stream",
     "text": [
      " 63%|█████████████████████████████████████████████████████████████████████████████████████████████████████████▊                                                              | 63/100 [03:03<01:52,  3.04s/it]"
     ]
    },
    {
     "name": "stdout",
     "output_type": "stream",
     "text": [
      "Multi-hop acc = 0.8095238095238095 (51 / 63)\n"
     ]
    },
    {
     "name": "stderr",
     "output_type": "stream",
     "text": [
      " 64%|███████████████████████████████████████████████████████████████████████████████████████████████████████████▌                                                            | 64/100 [03:07<01:55,  3.20s/it]"
     ]
    },
    {
     "name": "stdout",
     "output_type": "stream",
     "text": [
      "Multi-hop acc = 0.796875 (51 / 64)\n"
     ]
    },
    {
     "name": "stderr",
     "output_type": "stream",
     "text": [
      " 65%|█████████████████████████████████████████████████████████████████████████████████████████████████████████████▏                                                          | 65/100 [03:10<01:50,  3.16s/it]"
     ]
    },
    {
     "name": "stdout",
     "output_type": "stream",
     "text": [
      "Multi-hop acc = 0.8 (52 / 65)\n"
     ]
    },
    {
     "name": "stderr",
     "output_type": "stream",
     "text": [
      " 66%|██████████████████████████████████████████████████████████████████████████████████████████████████████████████▉                                                         | 66/100 [03:12<01:39,  2.93s/it]"
     ]
    },
    {
     "name": "stdout",
     "output_type": "stream",
     "text": [
      "Multi-hop acc = 0.7878787878787878 (52 / 66)\n"
     ]
    },
    {
     "name": "stderr",
     "output_type": "stream",
     "text": [
      " 67%|████████████████████████████████████████████████████████████████████████████████████████████████████████████████▌                                                       | 67/100 [03:15<01:32,  2.80s/it]"
     ]
    },
    {
     "name": "stdout",
     "output_type": "stream",
     "text": [
      "Multi-hop acc = 0.7910447761194029 (53 / 67)\n"
     ]
    },
    {
     "name": "stderr",
     "output_type": "stream",
     "text": [
      " 68%|██████████████████████████████████████████████████████████████████████████████████████████████████████████████████▏                                                     | 68/100 [03:18<01:32,  2.88s/it]"
     ]
    },
    {
     "name": "stdout",
     "output_type": "stream",
     "text": [
      "Multi-hop acc = 0.7941176470588235 (54 / 68)\n"
     ]
    },
    {
     "name": "stderr",
     "output_type": "stream",
     "text": [
      " 69%|███████████████████████████████████████████████████████████████████████████████████████████████████████████████████▉                                                    | 69/100 [03:21<01:30,  2.93s/it]"
     ]
    },
    {
     "name": "stdout",
     "output_type": "stream",
     "text": [
      "Multi-hop acc = 0.7971014492753623 (55 / 69)\n"
     ]
    },
    {
     "name": "stderr",
     "output_type": "stream",
     "text": [
      " 70%|█████████████████████████████████████████████████████████████████████████████████████████████████████████████████████▌                                                  | 70/100 [03:23<01:23,  2.77s/it]"
     ]
    },
    {
     "name": "stdout",
     "output_type": "stream",
     "text": [
      "Multi-hop acc = 0.8 (56 / 70)\n"
     ]
    },
    {
     "name": "stderr",
     "output_type": "stream",
     "text": [
      " 71%|███████████████████████████████████████████████████████████████████████████████████████████████████████████████████████▎                                                | 71/100 [03:26<01:21,  2.81s/it]"
     ]
    },
    {
     "name": "stdout",
     "output_type": "stream",
     "text": [
      "Multi-hop acc = 0.8028169014084507 (57 / 71)\n"
     ]
    },
    {
     "name": "stderr",
     "output_type": "stream",
     "text": [
      " 72%|████████████████████████████████████████████████████████████████████████████████████████████████████████████████████████▉                                               | 72/100 [03:29<01:22,  2.94s/it]"
     ]
    },
    {
     "name": "stdout",
     "output_type": "stream",
     "text": [
      "Multi-hop acc = 0.7916666666666666 (57 / 72)\n"
     ]
    },
    {
     "name": "stderr",
     "output_type": "stream",
     "text": [
      " 73%|██████████████████████████████████████████████████████████████████████████████████████████████████████████████████████████▋                                             | 73/100 [03:32<01:19,  2.96s/it]"
     ]
    },
    {
     "name": "stdout",
     "output_type": "stream",
     "text": [
      "Multi-hop acc = 0.7945205479452054 (58 / 73)\n"
     ]
    },
    {
     "name": "stderr",
     "output_type": "stream",
     "text": [
      " 74%|████████████████████████████████████████████████████████████████████████████████████████████████████████████████████████████▎                                           | 74/100 [03:35<01:18,  3.02s/it]"
     ]
    },
    {
     "name": "stdout",
     "output_type": "stream",
     "text": [
      "Multi-hop acc = 0.7972972972972973 (59 / 74)\n"
     ]
    },
    {
     "name": "stderr",
     "output_type": "stream",
     "text": [
      " 75%|██████████████████████████████████████████████████████████████████████████████████████████████████████████████████████████████                                          | 75/100 [03:39<01:19,  3.20s/it]"
     ]
    },
    {
     "name": "stdout",
     "output_type": "stream",
     "text": [
      "Multi-hop acc = 0.8 (60 / 75)\n"
     ]
    },
    {
     "name": "stderr",
     "output_type": "stream",
     "text": [
      " 76%|███████████████████████████████████████████████████████████████████████████████████████████████████████████████████████████████▋                                        | 76/100 [03:42<01:14,  3.10s/it]"
     ]
    },
    {
     "name": "stdout",
     "output_type": "stream",
     "text": [
      "Multi-hop acc = 0.8026315789473685 (61 / 76)\n"
     ]
    },
    {
     "name": "stderr",
     "output_type": "stream",
     "text": [
      " 77%|█████████████████████████████████████████████████████████████████████████████████████████████████████████████████████████████████▎                                      | 77/100 [03:45<01:09,  3.04s/it]"
     ]
    },
    {
     "name": "stdout",
     "output_type": "stream",
     "text": [
      "Multi-hop acc = 0.8051948051948052 (62 / 77)\n"
     ]
    },
    {
     "name": "stderr",
     "output_type": "stream",
     "text": [
      " 78%|███████████████████████████████████████████████████████████████████████████████████████████████████████████████████████████████████                                     | 78/100 [03:48<01:05,  3.00s/it]"
     ]
    },
    {
     "name": "stdout",
     "output_type": "stream",
     "text": [
      "Multi-hop acc = 0.8076923076923077 (63 / 78)\n"
     ]
    },
    {
     "name": "stderr",
     "output_type": "stream",
     "text": [
      " 79%|████████████████████████████████████████████████████████████████████████████████████████████████████████████████████████████████████▋                                   | 79/100 [03:51<01:03,  3.03s/it]"
     ]
    },
    {
     "name": "stdout",
     "output_type": "stream",
     "text": [
      "Multi-hop acc = 0.810126582278481 (64 / 79)\n"
     ]
    },
    {
     "name": "stderr",
     "output_type": "stream",
     "text": [
      " 80%|██████████████████████████████████████████████████████████████████████████████████████████████████████████████████████████████████████▍                                 | 80/100 [03:54<01:00,  3.04s/it]"
     ]
    },
    {
     "name": "stdout",
     "output_type": "stream",
     "text": [
      "Multi-hop acc = 0.8 (64 / 80)\n"
     ]
    },
    {
     "name": "stderr",
     "output_type": "stream",
     "text": [
      " 81%|████████████████████████████████████████████████████████████████████████████████████████████████████████████████████████████████████████                                | 81/100 [03:57<00:58,  3.08s/it]"
     ]
    },
    {
     "name": "stdout",
     "output_type": "stream",
     "text": [
      "Multi-hop acc = 0.8024691358024691 (65 / 81)\n"
     ]
    },
    {
     "name": "stderr",
     "output_type": "stream",
     "text": [
      " 82%|█████████████████████████████████████████████████████████████████████████████████████████████████████████████████████████████████████████▊                              | 82/100 [04:00<00:54,  3.04s/it]"
     ]
    },
    {
     "name": "stdout",
     "output_type": "stream",
     "text": [
      "Multi-hop acc = 0.8048780487804879 (66 / 82)\n"
     ]
    },
    {
     "name": "stderr",
     "output_type": "stream",
     "text": [
      " 83%|███████████████████████████████████████████████████████████████████████████████████████████████████████████████████████████████████████████▍                            | 83/100 [04:04<00:56,  3.32s/it]"
     ]
    },
    {
     "name": "stdout",
     "output_type": "stream",
     "text": [
      "Multi-hop acc = 0.7951807228915663 (66 / 83)\n"
     ]
    },
    {
     "name": "stderr",
     "output_type": "stream",
     "text": [
      " 84%|█████████████████████████████████████████████████████████████████████████████████████████████████████████████████████████████████████████████                           | 84/100 [04:06<00:47,  2.98s/it]"
     ]
    },
    {
     "name": "stdout",
     "output_type": "stream",
     "text": [
      "Multi-hop acc = 0.7976190476190477 (67 / 84)\n"
     ]
    },
    {
     "name": "stderr",
     "output_type": "stream",
     "text": [
      " 85%|██████████████████████████████████████████████████████████████████████████████████████████████████████████████████████████████████████████████▊                         | 85/100 [04:09<00:44,  2.95s/it]"
     ]
    },
    {
     "name": "stdout",
     "output_type": "stream",
     "text": [
      "Multi-hop acc = 0.8 (68 / 85)\n"
     ]
    },
    {
     "name": "stderr",
     "output_type": "stream",
     "text": [
      " 86%|████████████████████████████████████████████████████████████████████████████████████████████████████████████████████████████████████████████████▍                       | 86/100 [04:13<00:43,  3.13s/it]"
     ]
    },
    {
     "name": "stdout",
     "output_type": "stream",
     "text": [
      "Multi-hop acc = 0.8023255813953488 (69 / 86)\n"
     ]
    },
    {
     "name": "stderr",
     "output_type": "stream",
     "text": [
      " 87%|██████████████████████████████████████████████████████████████████████████████████████████████████████████████████████████████████████████████████▏                     | 87/100 [04:15<00:37,  2.90s/it]"
     ]
    },
    {
     "name": "stdout",
     "output_type": "stream",
     "text": [
      "Multi-hop acc = 0.7931034482758621 (69 / 87)\n"
     ]
    },
    {
     "name": "stderr",
     "output_type": "stream",
     "text": [
      " 88%|███████████████████████████████████████████████████████████████████████████████████████████████████████████████████████████████████████████████████▊                    | 88/100 [04:18<00:35,  3.00s/it]"
     ]
    },
    {
     "name": "stdout",
     "output_type": "stream",
     "text": [
      "Multi-hop acc = 0.7954545454545454 (70 / 88)\n"
     ]
    },
    {
     "name": "stderr",
     "output_type": "stream",
     "text": [
      " 89%|█████████████████████████████████████████████████████████████████████████████████████████████████████████████████████████████████████████████████████▌                  | 89/100 [04:20<00:31,  2.82s/it]"
     ]
    },
    {
     "name": "stdout",
     "output_type": "stream",
     "text": [
      "Multi-hop acc = 0.7865168539325843 (70 / 89)\n"
     ]
    },
    {
     "name": "stderr",
     "output_type": "stream",
     "text": [
      " 90%|███████████████████████████████████████████████████████████████████████████████████████████████████████████████████████████████████████████████████████▏                | 90/100 [04:23<00:27,  2.76s/it]"
     ]
    },
    {
     "name": "stdout",
     "output_type": "stream",
     "text": [
      "Multi-hop acc = 0.7888888888888889 (71 / 90)\n"
     ]
    },
    {
     "name": "stderr",
     "output_type": "stream",
     "text": [
      " 91%|████████████████████████████████████████████████████████████████████████████████████████████████████████████████████████████████████████████████████████▉               | 91/100 [04:26<00:23,  2.66s/it]"
     ]
    },
    {
     "name": "stdout",
     "output_type": "stream",
     "text": [
      "Multi-hop acc = 0.7802197802197802 (71 / 91)\n"
     ]
    },
    {
     "name": "stderr",
     "output_type": "stream",
     "text": [
      " 92%|██████████████████████████████████████████████████████████████████████████████████████████████████████████████████████████████████████████████████████████▌             | 92/100 [04:29<00:22,  2.84s/it]"
     ]
    },
    {
     "name": "stdout",
     "output_type": "stream",
     "text": [
      "Multi-hop acc = 0.782608695652174 (72 / 92)\n"
     ]
    },
    {
     "name": "stderr",
     "output_type": "stream",
     "text": [
      " 93%|████████████████████████████████████████████████████████████████████████████████████████████████████████████████████████████████████████████████████████████▏           | 93/100 [04:32<00:19,  2.83s/it]"
     ]
    },
    {
     "name": "stdout",
     "output_type": "stream",
     "text": [
      "Multi-hop acc = 0.7849462365591398 (73 / 93)\n"
     ]
    },
    {
     "name": "stderr",
     "output_type": "stream",
     "text": [
      " 94%|█████████████████████████████████████████████████████████████████████████████████████████████████████████████████████████████████████████████████████████████▉          | 94/100 [04:33<00:15,  2.50s/it]"
     ]
    },
    {
     "name": "stdout",
     "output_type": "stream",
     "text": [
      "Multi-hop acc = 0.776595744680851 (73 / 94)\n"
     ]
    },
    {
     "name": "stderr",
     "output_type": "stream",
     "text": [
      " 95%|███████████████████████████████████████████████████████████████████████████████████████████████████████████████████████████████████████████████████████████████▌        | 95/100 [04:35<00:11,  2.21s/it]"
     ]
    },
    {
     "name": "stdout",
     "output_type": "stream",
     "text": [
      "Multi-hop acc = 0.7684210526315789 (73 / 95)\n"
     ]
    },
    {
     "name": "stderr",
     "output_type": "stream",
     "text": [
      " 96%|█████████████████████████████████████████████████████████████████████████████████████████████████████████████████████████████████████████████████████████████████▎      | 96/100 [04:37<00:09,  2.29s/it]"
     ]
    },
    {
     "name": "stdout",
     "output_type": "stream",
     "text": [
      "Multi-hop acc = 0.7604166666666666 (73 / 96)\n"
     ]
    },
    {
     "name": "stderr",
     "output_type": "stream",
     "text": [
      " 97%|██████████████████████████████████████████████████████████████████████████████████████████████████████████████████████████████████████████████████████████████████▉     | 97/100 [04:40<00:07,  2.37s/it]"
     ]
    },
    {
     "name": "stdout",
     "output_type": "stream",
     "text": [
      "Multi-hop acc = 0.7525773195876289 (73 / 97)\n"
     ]
    },
    {
     "name": "stderr",
     "output_type": "stream",
     "text": [
      " 98%|████████████████████████████████████████████████████████████████████████████████████████████████████████████████████████████████████████████████████████████████████▋   | 98/100 [04:43<00:04,  2.50s/it]"
     ]
    },
    {
     "name": "stdout",
     "output_type": "stream",
     "text": [
      "Multi-hop acc = 0.7551020408163265 (74 / 98)\n"
     ]
    },
    {
     "name": "stderr",
     "output_type": "stream",
     "text": [
      " 99%|██████████████████████████████████████████████████████████████████████████████████████████████████████████████████████████████████████████████████████████████████████▎ | 99/100 [04:45<00:02,  2.49s/it]"
     ]
    },
    {
     "name": "stdout",
     "output_type": "stream",
     "text": [
      "Multi-hop acc = 0.7575757575757576 (75 / 99)\n"
     ]
    },
    {
     "name": "stderr",
     "output_type": "stream",
     "text": [
      "100%|███████████████████████████████████████████████████████████████████████████████████████████████████████████████████████████████████████████████████████████████████████| 100/100 [04:48<00:00,  2.88s/it]"
     ]
    },
    {
     "name": "stdout",
     "output_type": "stream",
     "text": [
      "Multi-hop acc = 0.75 (75 / 100)\n",
      "Multi-hop acc = 0.75 (75 / 100)\n"
     ]
    },
    {
     "name": "stderr",
     "output_type": "stream",
     "text": [
      "\n"
     ]
    }
   ],
   "source": [
    "# read prompts\n",
    "with open('prompts/multihop-cot-prompts.txt', 'r') as f:\n",
    "    task_prompt = f.read()\n",
    "\n",
    "with open('prompts/delete-prompt.txt', 'r') as f:\n",
    "    delete_prompt = f.read()\n",
    "    \n",
    "with open('prompts/conflict-prompt.txt', 'r') as f:\n",
    "    conflict_prompt = f.read()\n",
    "\n",
    "with open('prompts/conflict-prompt-1.txt', 'r') as f:\n",
    "    conflict_prompt_1 = f.read()\n",
    "    \n",
    "with open('prompts/conflict-prompt-2.txt', 'r') as f:\n",
    "    conflict_prompt_2 = f.read()\n",
    "    \n",
    "with open('prompts/entity-prompt.txt', 'r') as f:\n",
    "    entity_prompt = f.read()\n",
    "    \n",
    "with open('prompts/exist-prompt.txt', 'r') as f:\n",
    "    exist_prompt = f.read()\n",
    "\n",
    "def searchFact(sentence_1, sentence_2, fact_ls):\n",
    "    embs = get_sent_embeddings(fact_ls, contriever, tokenizer)\n",
    "    \n",
    "    prompt_1 = delete_prompt + \"\\n\\nSentence A: \" + sentence_1 + '\\nSentence B: ' + sentence_2 + '\\nSentence B after removal: '\n",
    "    gen = call_gpt(prompt_1, ['\\n']).strip()\n",
    "    thought_for_search = gen\n",
    "\n",
    "    fact_ids = retrieve_facts(thought_for_search, embs, contriever, tokenizer)\n",
    "    fact_sent_ls = [fact_ls[id_] + '.' for id_ in fact_ids]\n",
    "    return fact_sent_ls\n",
    "\n",
    "def newEntity(sentence_1, sentence_2):\n",
    "    prompt_1 = entity_prompt + \"\\n\\nSentence A: \" + sentence_1 + '\\nSentence B: ' + sentence_2 + '\\nAnswer: '\n",
    "    gen = call_gpt(prompt_1, ['\\n']).strip()\n",
    "    return gen\n",
    "\n",
    "def entityExist(entity, sentence):\n",
    "    if entity.lower() in sentence.lower():\n",
    "        return True\n",
    "    prompt_4 = exist_prompt + \"\\n\\nSentence: \" + sentence + '\\nEntity: ' + entity + '\\nAnswer: '\n",
    "    gen = call_gpt(prompt_4, ['\\n']).strip().strip(string.punctuation)\n",
    "    for i_ in range(2): \n",
    "        if gen.lower() == 'yes' or gen.lower() == 'no':\n",
    "            break\n",
    "        gen = call_gpt(prompt_4, ['\\n'], temperature = 1).strip().strip(string.punctuation)\n",
    "    \n",
    "    if gen.lower() == 'yes':\n",
    "        return True\n",
    "    else:\n",
    "        return False\n",
    "    \n",
    "def judgeConflict1(sentence_1, sentence_2):\n",
    "    prompt_2 = conflict_prompt_1 + \"\\n\\nSentence A: \" + sentence_1 + '\\nSentence B: ' + sentence_2 + '\\nAnswer: '\n",
    "    gen = call_gpt(prompt_2, ['\\n']).strip().strip(string.punctuation)\n",
    "    for i_ in range(2): \n",
    "        if gen.lower() == 'yes' or gen.lower() == 'no':\n",
    "            break\n",
    "        \n",
    "        gen = call_gpt(prompt_2, ['\\n'], temperature = 1).strip().strip(string.punctuation)\n",
    "    \n",
    "    if gen.lower() == 'yes':\n",
    "        return True\n",
    "    else:\n",
    "        return False\n",
    "    \n",
    "def judgeConflict2(sentence_1, sentence_2):\n",
    "    prompt_2 = conflict_prompt_2 + \"\\n\\nSentence A: \" + sentence_1 + '\\nSentence B: ' + sentence_2 + '\\nAnswer: '\n",
    "    gen = call_gpt(prompt_2, ['\\n']).strip().strip(string.punctuation)\n",
    "    for i_ in range(2): \n",
    "        if gen.lower() == 'yes' or gen.lower() == 'no':\n",
    "            break\n",
    "        \n",
    "        gen = call_gpt(prompt_2, ['\\n'], temperature = 1).strip().strip(string.punctuation)\n",
    "    \n",
    "    if gen.lower() == 'yes':\n",
    "        return True\n",
    "    else:\n",
    "        return False\n",
    "    \n",
    "def judgeConflict(sentence_1, sentence_2):\n",
    "    prompt_2 = conflict_prompt + \"\\n\\nSentence A: \" + sentence_1 + '\\nSentence B: ' + sentence_2 + '\\nAnswer: '\n",
    "    gen = call_gpt(prompt_2, ['\\n']).strip().strip(string.punctuation)\n",
    "    for i_ in range(2): \n",
    "        if gen.lower() == 'yes' or gen.lower() == 'no':\n",
    "            break\n",
    "        gen = call_gpt(prompt_2, ['\\n'], temperature = 1).strip().strip(string.punctuation)\n",
    "    \n",
    "    if gen.lower() == 'yes':\n",
    "        return True\n",
    "    else:\n",
    "        return False\n",
    "    \n",
    "def oneStep(prompt, last_entity, new_entity, last_thought, count):\n",
    "    gen = call_gpt(prompt, ['.# ', '.\\n']).strip()\n",
    "    if 'the answer' in gen or 'the answers' in gen:\n",
    "        return new_entity\n",
    "    current_thought = (gen + '.').strip()\n",
    "\n",
    "    fact_sent_ls = searchFact(last_thought, current_thought, fact_ls)\n",
    "\n",
    "    output_ls = []\n",
    "    for fact_sent_ in fact_sent_ls[::-1]:\n",
    "        last_entity_flag = entityExist(last_entity, fact_sent_)\n",
    "        exist_flag = entityExist(new_entity, fact_sent_)\n",
    "        conflict_flag = judgeConflict(fact_sent_, current_thought) and judgeConflict1(fact_sent_, current_thought) and judgeConflict2(fact_sent_, current_thought)\n",
    "        if (exist_flag and not last_entity_flag) or conflict_flag:\n",
    "            new_thought = fact_sent_\n",
    "            output = {\n",
    "                'last_entity' : new_entity,\n",
    "                'new_entity' : newEntity(last_thought, new_thought),\n",
    "                'prompt' : prompt + new_thought + '# ',\n",
    "                'last_thought' : new_thought,\n",
    "                'count' : count + 1,\n",
    "            }\n",
    "            output_ls.append(output)\n",
    "            \n",
    "    if len(output_ls) == 0:\n",
    "        new_thought = current_thought\n",
    "        output = {\n",
    "            'last_entity' : new_entity,\n",
    "            'new_entity' : newEntity(last_thought, new_thought),\n",
    "            'prompt' : prompt + new_thought + '# ',\n",
    "            'last_thought' : new_thought,\n",
    "            'count' : count + 1,\n",
    "        }\n",
    "        output_ls.append(output)\n",
    "\n",
    "    return output_ls\n",
    "            \n",
    "\n",
    "cor = 0\n",
    "tot = 0\n",
    "\n",
    "for d in tqdm(dataset[0:100]):\n",
    "    new_facts = set()\n",
    "    \n",
    "    for r in d[\"requested_rewrite\"]:\n",
    "        new_facts.add(f'{r[\"prompt\"].format(r[\"subject\"])} {r[\"target_new\"][\"str\"]}')\n",
    "        \n",
    "    fact_ls = list(new_facts)\n",
    "    tot += 1\n",
    "    for q in d[\"questions\"][:1]:\n",
    "        state_ls = []\n",
    "        initial_state = {\n",
    "            'last_entity' : 'Crouching Tiger',\n",
    "            'new_entity' : newEntity('No entity appears.', q),\n",
    "            'prompt' : task_prompt + \"\\n\\nQustion: \" + q + '\\nThoughts with New Knowledge: ',\n",
    "            'last_thought' : q,\n",
    "            'count' : 1,\n",
    "        }\n",
    "        state_ls.append(initial_state)\n",
    "        ans = None\n",
    "        while len(state_ls) > 0:\n",
    "            state_ = state_ls[-1]\n",
    "            del state_ls[-1]\n",
    "            if state_['count'] >= 9:\n",
    "                continue\n",
    "\n",
    "            output = oneStep(state_['prompt'], state_['last_entity'], state_['new_entity'], state_['last_thought'], state_['count'])\n",
    "            if isinstance(output, list):\n",
    "                state_ls.extend(output)\n",
    "            else:\n",
    "                ans = output\n",
    "                break\n",
    "        \n",
    "        if ans is None:\n",
    "            continue\n",
    "\n",
    "        # if the answer is correct\n",
    "        if ans.lower() == d[\"new_answer\"].lower() or ans.lower() in [ans_.lower() for ans_ in d[\"new_answer_alias\"]]:\n",
    "            cor += 1\n",
    "            print(f'Multi-hop acc = {cor / tot} ({cor} / {tot})')\n",
    "            break\n",
    "        else:\n",
    "            print(f'Multi-hop acc = {cor / tot} ({cor} / {tot})')\n",
    "            pass\n",
    "\n",
    "print(f'Multi-hop acc = {cor / tot} ({cor} / {tot})')"
   ]
  }
 ],
 "metadata": {
  "kernelspec": {
   "display_name": "Python 3 (ipykernel)",
   "language": "python",
   "name": "python3"
  },
  "language_info": {
   "codemirror_mode": {
    "name": "ipython",
    "version": 3
   },
   "file_extension": ".py",
   "mimetype": "text/x-python",
   "name": "python",
   "nbconvert_exporter": "python",
   "pygments_lexer": "ipython3",
   "version": "3.11.5"
  }
 },
 "nbformat": 4,
 "nbformat_minor": 5
}
